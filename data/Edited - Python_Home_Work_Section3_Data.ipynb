{
 "cells": [
  {
   "cell_type": "code",
   "execution_count": 7,
   "metadata": {},
   "outputs": [],
   "source": [
    "#Data\n",
    "import numpy as np\n",
    "revenue = [14574.49, 7606.46, 8611.41, 9175.41, 8058.65, 8105.44, 11496.28, 9766.09, 10305.32, 14379.96, 10713.97, 15433.50]\n",
    "expenses = [12051.82, 5695.07, 12319.20, 12089.72, 8658.57, 840.20, 3285.73, 5821.12, 6976.93, 16618.61, 10054.37, 3803.96]\n",
    "\n",
    "profit = list(range(len(revenue)))\n",
    "profitAfterTax = list(range(len(revenue)))\n",
    "profitMargin = list(range(len(revenue)))\n",
    "typeOfMonth = list(range(len(revenue)))\n",
    "for i in range(len(revenue)):\n",
    "    profit[i] = revenue[i]-expenses[i]\n",
    "    profitAfterTax[i] = profitAfterTax[i]*0.7\n",
    "    profitMargin[i] = profitAfterTax[i]/revenue[i]\n",
    "profitAfterTaxArray = np.array(profitAfterTax) \n",
    "mean = profitAfterTaxArray.mean();\n",
    "for i in range(len(revenue)):\n",
    "    if profitAfterTax[i]>=mean:\n",
    "        typeOfMonth[i]='good'\n",
    "    else:\n",
    "        typeOfMonth[i]='bad'\n",
    "maxPos = profitAfterTax.index(max(profitAfterTax))\n",
    "minPos = profitAfterTax.index(min(profitAfterTax))\n",
    "  \n",
    "\n",
    "    \n"
   ]
  }
 ],
 "metadata": {
  "kernelspec": {
   "display_name": "Python 3",
   "language": "python",
   "name": "python3"
  },
  "language_info": {
   "codemirror_mode": {
    "name": "ipython",
    "version": 3
   },
   "file_extension": ".py",
   "mimetype": "text/x-python",
   "name": "python",
   "nbconvert_exporter": "python",
   "pygments_lexer": "ipython3",
   "version": "3.6.5"
  }
 },
 "nbformat": 4,
 "nbformat_minor": 1
}
