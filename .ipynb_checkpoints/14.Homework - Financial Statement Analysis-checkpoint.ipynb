{
 "cells": [
  {
   "cell_type": "code",
   "execution_count": 1,
   "metadata": {},
   "outputs": [],
   "source": [
    "#Data \n",
    "revenue = [14574.49, 7606.46, 8611.41, 9175.41, 8058.65, 8105.44, 11496.28, 9766.09, 10305.32, 14379.96, 10713.97, 15433.50]\n",
    "expenses = [12051.82, 5695.07, 12319.20, 12089.72, 8658.57, 840.20, 3285.73, 5821.12, 6976.93, 16618.61, 10054.37, 3803.96]"
   ]
  },
  {
   "cell_type": "code",
   "execution_count": 3,
   "metadata": {},
   "outputs": [
    {
     "data": {
      "text/plain": [
       "[2522.67,\n",
       " 1911.3900000000003,\n",
       " -3707.790000000001,\n",
       " -2914.3099999999995,\n",
       " -599.9200000000001,\n",
       " 7265.24,\n",
       " 8210.550000000001,\n",
       " 3944.9700000000003,\n",
       " 3328.3899999999994,\n",
       " -2238.6500000000015,\n",
       " 659.5999999999985,\n",
       " 11629.54]"
      ]
     },
     "execution_count": 3,
     "metadata": {},
     "output_type": "execute_result"
    }
   ],
   "source": [
    "import numpy as np\n",
    "\n",
    "#profit calculation !!!\n",
    "\n",
    "profit = [] \n",
    "for i in range(len(revenue)):\n",
    "    profit.append(revenue[i]-expenses[i])\n",
    "profit"
   ]
  },
  {
   "cell_type": "code",
   "execution_count": 7,
   "metadata": {},
   "outputs": [
    {
     "data": {
      "text/plain": [
       "[1765.87,\n",
       " 1337.97,\n",
       " -2595.45,\n",
       " -2040.02,\n",
       " -419.94,\n",
       " 5085.67,\n",
       " 5747.39,\n",
       " 2761.48,\n",
       " 2329.87,\n",
       " -1567.06,\n",
       " 461.72,\n",
       " 8140.68]"
      ]
     },
     "execution_count": 7,
     "metadata": {},
     "output_type": "execute_result"
    }
   ],
   "source": [
    "#profit after tax calculation after rounding off\n",
    "profit_after_tax = [round(i*0.7,2) for i in profit]\n",
    "profit_after_tax\n"
   ]
  },
  {
   "cell_type": "code",
   "execution_count": 12,
   "metadata": {},
   "outputs": [
    {
     "data": {
      "text/plain": [
       "[12.12,\n",
       " 17.59,\n",
       " -30.14,\n",
       " -22.23,\n",
       " -5.21,\n",
       " 62.74,\n",
       " 49.99,\n",
       " 28.28,\n",
       " 22.61,\n",
       " -10.9,\n",
       " 4.31,\n",
       " 52.75]"
      ]
     },
     "execution_count": 12,
     "metadata": {},
     "output_type": "execute_result"
    }
   ],
   "source": [
    "#profit margin calculation\n",
    "profit_margin = []\n",
    "for i in range(len(revenue)):\n",
    "    profit_margin.append( profit_after_tax[i]/revenue[i])\n",
    "profit_margin\n",
    "profit_margin = [round(i*100,2) for i in profit_margin]\n",
    "profit_margin"
   ]
  },
  {
   "cell_type": "code",
   "execution_count": 15,
   "metadata": {},
   "outputs": [
    {
     "data": {
      "text/plain": [
       "1750.681666666667"
      ]
     },
     "execution_count": 15,
     "metadata": {},
     "output_type": "execute_result"
    }
   ],
   "source": [
    "#calculation of the mean profit\n",
    "mean_profit = np.mean(profit_after_tax)\n",
    "\n",
    "mean_profit"
   ]
  },
  {
   "cell_type": "code",
   "execution_count": 16,
   "metadata": {},
   "outputs": [
    {
     "data": {
      "text/plain": [
       "[True, False, False, False, False, True, True, True, True, False, False, True]"
      ]
     },
     "execution_count": 16,
     "metadata": {},
     "output_type": "execute_result"
    }
   ],
   "source": [
    "#good months calculation\n",
    "good_months = [] \n",
    "for i in range(len(revenue)):\n",
    "    good_months.append(profit_after_tax[i]>mean_profit)\n",
    "good_months"
   ]
  },
  {
   "cell_type": "code",
   "execution_count": 18,
   "metadata": {},
   "outputs": [
    {
     "data": {
      "text/plain": [
       "[False, True, True, True, True, False, False, False, False, True, True, False]"
      ]
     },
     "execution_count": 18,
     "metadata": {},
     "output_type": "execute_result"
    }
   ],
   "source": [
    "#bad months calculation\n",
    "bad_months = []\n",
    "for i in good_months:\n",
    "    bad_months.append(not i)\n",
    "bad_months"
   ]
  },
  {
   "cell_type": "code",
   "execution_count": 20,
   "metadata": {},
   "outputs": [
    {
     "data": {
      "text/plain": [
       "[False,\n",
       " False,\n",
       " False,\n",
       " False,\n",
       " False,\n",
       " False,\n",
       " False,\n",
       " False,\n",
       " False,\n",
       " False,\n",
       " False,\n",
       " True]"
      ]
     },
     "execution_count": 20,
     "metadata": {},
     "output_type": "execute_result"
    }
   ],
   "source": [
    "#best month calculation\n",
    "best_month = [] \n",
    "for i in profit_after_tax:\n",
    "    best_month.append(i==max(profit_after_tax))\n",
    "best_month"
   ]
  },
  {
   "cell_type": "code",
   "execution_count": 21,
   "metadata": {},
   "outputs": [
    {
     "data": {
      "text/plain": [
       "[False,\n",
       " False,\n",
       " True,\n",
       " False,\n",
       " False,\n",
       " False,\n",
       " False,\n",
       " False,\n",
       " False,\n",
       " False,\n",
       " False,\n",
       " False]"
      ]
     },
     "execution_count": 21,
     "metadata": {},
     "output_type": "execute_result"
    }
   ],
   "source": [
    "#worst month calculation\n",
    "worst_month = [] \n",
    "for i in profit_after_tax:\n",
    "    worst_month.append(i==min(profit_after_tax))\n",
    "worst_month"
   ]
  },
  {
   "cell_type": "code",
   "execution_count": 28,
   "metadata": {},
   "outputs": [],
   "source": [
    "#converting all calculation to units of one thousand dollars\n",
    "revenue_1000 = [round(i,0) for i in revenue]\n",
    "expenses_1000 = [round(i,0) for i in expenses]\n",
    "profit_1000 = [round(i,0) for i in profit]\n",
    "profit_after_tax_1000 = [round(i,0) for i in profit_after_tax]\n",
    "\n",
    "revenue_1000 = [int(i) for i in revenue_1000]\n",
    "expenses_1000 = [int(i) for i in expenses_1000]\n",
    "profit_1000 = [int(i) for i in profit_1000]\n",
    "profit_after_tax_1000 = [int(i) for i in profit_after_tax_1000]\n",
    "\n"
   ]
  },
  {
   "cell_type": "code",
   "execution_count": 33,
   "metadata": {},
   "outputs": [
    {
     "name": "stdout",
     "output_type": "stream",
     "text": [
      "Revenue:\n",
      "[14574, 7606, 8611, 9175, 8059, 8105, 11496, 9766, 10305, 14380, 10714, 15434]\n",
      "Expenses:\n",
      "[12052, 5695, 12319, 12090, 8659, 840, 3286, 5821, 6977, 16619, 10054, 3804]\n",
      "Profit:\n",
      "[2523, 1911, -3708, -2914, -600, 7265, 8211, 3945, 3328, -2239, 660, 11630]\n",
      "Profit after tax\n",
      "[1766, 1338, -2595, -2040, -420, 5086, 5747, 2761, 2330, -1567, 462, 8141]\n",
      "Profit_margin\n",
      "[12.12, 17.59, -30.14, -22.23, -5.21, 62.74, 49.99, 28.28, 22.61, -10.9, 4.31, 52.75]\n",
      "Good months\n",
      "[True, False, False, False, False, True, True, True, True, False, False, True]\n",
      "Bad months:\n",
      "[False, True, True, True, True, False, False, False, False, True, True, False]\n",
      "Best month:\n",
      "[False, False, False, False, False, False, False, False, False, False, False, True]\n",
      "Worst month:\n",
      "[False, False, True, False, False, False, False, False, False, False, False, False]\n"
     ]
    }
   ],
   "source": [
    "#printing results\n",
    "print(\"Revenue:\")\n",
    "print(revenue_1000)\n",
    "print(\"Expenses:\")\n",
    "print(expenses_1000)\n",
    "print(\"Profit:\")\n",
    "print(profit_1000)\n",
    "print(\"Profit after tax\")\n",
    "print(profit_after_tax_1000)\n",
    "print(\"Profit_margin\")\n",
    "print(profit_margin)\n",
    "print(\"Good months\")\n",
    "print(good_months)\n",
    "print(\"Bad months:\")\n",
    "print(bad_months)\n",
    "print(\"Best month:\")\n",
    "print(best_month)\n",
    "print(\"Worst month:\")\n",
    "print(worst_month)\n"
   ]
  }
 ],
 "metadata": {
  "kernelspec": {
   "display_name": "Python 3",
   "language": "python",
   "name": "python3"
  },
  "language_info": {
   "codemirror_mode": {
    "name": "ipython",
    "version": 3
   },
   "file_extension": ".py",
   "mimetype": "text/x-python",
   "name": "python",
   "nbconvert_exporter": "python",
   "pygments_lexer": "ipython3",
   "version": "3.6.5"
  }
 },
 "nbformat": 4,
 "nbformat_minor": 2
}
